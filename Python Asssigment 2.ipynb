{
 "cells": [
  {
   "cell_type": "code",
   "execution_count": 1,
   "metadata": {},
   "outputs": [
    {
     "name": "stdout",
     "output_type": "stream",
     "text": [
      " Enter maths Marks : 76\n",
      " Enter physics Marks : 87\n",
      " Enter aeronautics Marks : 90.8\n",
      " Enter meterology marks : 67\n",
      " Enter astronomy Marks : 56.6\n",
      "377.40000000000003\n",
      "75.48\n",
      "A\n"
     ]
    }
   ],
   "source": [
    "maths = int(input(\" Enter maths Marks : \"))\n",
    "physics = int(input(\" Enter physics Marks : \"))\n",
    "aeronautics = float(input(\" Enter aeronautics Marks : \"))\n",
    "meterology = int(input(\" Enter meterology marks : \"))\n",
    "astronomy = float(input(\" Enter astronomy Marks : \"))\n",
    "total = (maths + physics + aeronautics + meterology + astronomy )\n",
    "print(total)\n",
    "per = (( total / 500) * 100 )\n",
    "print(per)\n",
    "if per >= 80 and per <= 100 : \n",
    "    print(\"A+\")\n",
    "elif per >= 70 and per < 80 : \n",
    "    print(\"A\")\n",
    "elif per >= 60 and per < 70 : \n",
    "    print(\"B\")\n",
    "elif per >= 50 and per < 60 : \n",
    "    print(\"C\")\n",
    "elif per >= 40 and per < 50 : \n",
    "    print(\"D\")\n",
    "elif per >= 33 and per < 40 : \n",
    "    print(\"E\")\n",
    "elif per >= 0 and per < 33 : \n",
    "    print(\"Fail\")\n",
    "else : \n",
    "    print(\" You have given inappropriate % \")"
   ]
  },
  {
   "cell_type": "code",
   "execution_count": 2,
   "metadata": {},
   "outputs": [
    {
     "name": "stdout",
     "output_type": "stream",
     "text": [
      " Enter the number : 4\n",
      " Even Number \n"
     ]
    }
   ],
   "source": [
    "num = int(input(\" Enter the number : \"))\n",
    "subject =(num % 2)\n",
    "if subject > 0 :\n",
    "    print(\" Odd Number \")\n",
    "else :\n",
    "    print(\" Even Number \")"
   ]
  },
  {
   "cell_type": "code",
   "execution_count": 4,
   "metadata": {},
   "outputs": [
    {
     "name": "stdout",
     "output_type": "stream",
     "text": [
      " The lenth of the list is :  6\n"
     ]
    }
   ],
   "source": [
    "a = [ \"Ali\" , \"Haider\" , \"salman\" , 25 , False , 0.9]\n",
    "print(\" The lenth of the list is : \" , len(a))"
   ]
  },
  {
   "cell_type": "code",
   "execution_count": 11,
   "metadata": {},
   "outputs": [
    {
     "name": "stdout",
     "output_type": "stream",
     "text": [
      "How many numbers: 2\n",
      "Enter number 54\n",
      "Enter number 87\n",
      "Sum of elements in given list is : 141\n"
     ]
    }
   ],
   "source": [
    "list = []\n",
    "num = int(input('How many numbers: '))\n",
    "for n in range(num):\n",
    "    numbers = int(input('Enter number '))\n",
    "    list.append(numbers)\n",
    "print(\"Sum of elements in given list is :\", sum(list))\n"
   ]
  },
  {
   "cell_type": "code",
   "execution_count": 10,
   "metadata": {},
   "outputs": [
    {
     "name": "stdout",
     "output_type": "stream",
     "text": [
      "Largest element is: 9\n"
     ]
    }
   ],
   "source": [
    "list1 = [ 2 , 4 , 6 , 8 , 9 , 1 ]\n",
    "print(\"Largest element is:\", max(list1)) \n",
    "\n"
   ]
  },
  {
   "cell_type": "code",
   "execution_count": 7,
   "metadata": {},
   "outputs": [
    {
     "name": "stdout",
     "output_type": "stream",
     "text": [
      "[2, 4, 1]\n"
     ]
    }
   ],
   "source": [
    "a = [ 2 , 4 , 6 , 8 , 9 , 1 ]\n",
    "new_list = []\n",
    "for element in a :\n",
    "    if element < 5 :\n",
    "        new_list.append(element)\n",
    "print(new_list)\n"
   ]
  },
  {
   "cell_type": "code",
   "execution_count": null,
   "metadata": {},
   "outputs": [],
   "source": []
  }
 ],
 "metadata": {
  "kernelspec": {
   "display_name": "Python 3",
   "language": "python",
   "name": "python3"
  },
  "language_info": {
   "codemirror_mode": {
    "name": "ipython",
    "version": 3
   },
   "file_extension": ".py",
   "mimetype": "text/x-python",
   "name": "python",
   "nbconvert_exporter": "python",
   "pygments_lexer": "ipython3",
   "version": "3.7.4"
  }
 },
 "nbformat": 4,
 "nbformat_minor": 2
}
